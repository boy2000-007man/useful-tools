{
 "cells": [
  {
   "cell_type": "code",
   "execution_count": 1,
   "metadata": {
    "collapsed": false
   },
   "outputs": [],
   "source": [
    "PATH = unicode('C:/Users/zero/Google 云端硬盘/useful tools/BGO', 'utf-8')#u'D:/zero/Pictures/acgn'"
   ]
  },
  {
   "cell_type": "code",
   "execution_count": 2,
   "metadata": {
    "collapsed": true
   },
   "outputs": [],
   "source": [
    "import itertools as it\n",
    "import operator as op\n",
    "import os"
   ]
  },
  {
   "cell_type": "code",
   "execution_count": 3,
   "metadata": {
    "collapsed": true
   },
   "outputs": [],
   "source": [
    "def groupby(f, l):\n",
    "    for _, g in it.groupby(sorted(zip(map(f, l), l)), op.itemgetter(0)):\n",
    "        yield map(op.itemgetter(1), g)"
   ]
  },
  {
   "cell_type": "code",
   "execution_count": 4,
   "metadata": {
    "collapsed": false
   },
   "outputs": [
    {
     "name": "stdout",
     "output_type": "stream",
     "text": [
      "1\n",
      "Wall time: 5 ms\n"
     ]
    }
   ],
   "source": [
    "%%time\n",
    "fs = map(lambda fn: os.path.join(PATH, fn), os.listdir(PATH))\n",
    "rf = []\n",
    "for g in groupby(os.path.getsize, fs):\n",
    "    if 1 < len(g):\n",
    "        for g_ in groupby(lambda fn: open(fn).read(), g):\n",
    "            rf += sorted(g_, key=len)[1:]\n",
    "print len(map(os.remove, rf))"
   ]
  }
 ],
 "metadata": {
  "kernelspec": {
   "display_name": "Python 2",
   "language": "python",
   "name": "python2"
  },
  "language_info": {
   "codemirror_mode": {
    "name": "ipython",
    "version": 2
   },
   "file_extension": ".py",
   "mimetype": "text/x-python",
   "name": "python",
   "nbconvert_exporter": "python",
   "pygments_lexer": "ipython2",
   "version": "2.7.13"
  }
 },
 "nbformat": 4,
 "nbformat_minor": 2
}
