{
 "cells": [
  {
   "cell_type": "code",
   "execution_count": 1,
   "metadata": {
    "collapsed": true
   },
   "outputs": [],
   "source": [
    "PATH = unicode('C:/Users/zero/Google 云端硬盘/useful tools/BGO', 'utf-8')"
   ]
  },
  {
   "cell_type": "code",
   "execution_count": 2,
   "metadata": {
    "collapsed": true
   },
   "outputs": [],
   "source": [
    "from __future__ import division\n",
    "import pandas as pd\n",
    "import os"
   ]
  },
  {
   "cell_type": "code",
   "execution_count": 3,
   "metadata": {
    "collapsed": false
   },
   "outputs": [],
   "source": [
    "fs = map(lambda fn: os.path.join(PATH, fn), os.listdir(PATH))\n",
    "df = pd.concat(map(pd.read_csv, fs)).drop_duplicates().reset_index(drop=True)"
   ]
  },
  {
   "cell_type": "code",
   "execution_count": 4,
   "metadata": {
    "collapsed": false
   },
   "outputs": [
    {
     "data": {
      "text/plain": [
       "Index([u'id', u'info', u'rname', u'sname', u'star'], dtype='object')"
      ]
     },
     "execution_count": 4,
     "metadata": {},
     "output_type": "execute_result"
    }
   ],
   "source": [
    "df.columns"
   ]
  },
  {
   "cell_type": "code",
   "execution_count": 72,
   "metadata": {
    "collapsed": false
   },
   "outputs": [
    {
     "name": "stdout",
     "output_type": "stream",
     "text": [
      "Group by sname\n",
      "\t34.10%\tios服\n",
      "\t63.62%\t安卓bili服\n",
      "\t02.29%\t安卓联运服\n",
      "Group by star\n",
      "\t81.01%\tSR\n",
      "\t18.99%\tSSR\n"
     ]
    }
   ],
   "source": [
    "for c in ['sname', 'star']:\n",
    "    print 'Group by', c\n",
    "    for k, d in df.groupby(c):\n",
    "        print '\\t{1:0=5.2f}%\\t{0}'.format(k, d.shape[0] / df.shape[0] * 100)"
   ]
  },
  {
   "cell_type": "code",
   "execution_count": 6,
   "metadata": {
    "collapsed": false
   },
   "outputs": [],
   "source": [
    "d = dict(map(lambda (k, d): [k, d.shape[0]], df.groupby(['star', 'info'])))"
   ]
  },
  {
   "cell_type": "code",
   "execution_count": 7,
   "metadata": {
    "collapsed": false
   },
   "outputs": [
    {
     "name": "stdout",
     "output_type": "stream",
     "text": [
      "SR 伊丽莎白·巴托里 0.0589717741935\n",
      "SR 兰斯洛特 0.0120967741935\n",
      "SR 卡米拉 0.0635080645161\n",
      "SR 卫宫 0.0645161290323\n",
      "SR 卫宫〔Assassin〕 0.0181451612903\n",
      "SR 安妮·伯妮＆玛莉·瑞德 0.0146169354839\n",
      "SR 尼禄·克劳狄乌斯 0.00252016129032\n",
      "SR 弗兰肯斯坦 0.0120967741935\n",
      "SR 托马斯·爱迪生 0.224294354839\n",
      "SR 斯忒诺 0.0599798387097\n",
      "SR 李书文 0.00302419354839\n",
      "SR 海伦娜·布拉瓦茨基 0.0110887096774\n",
      "SR 玉藻猫 0.0584677419355\n",
      "SR 玛丽·安托瓦内特 0.0579637096774\n",
      "SR 玛尔达 0.0756048387097\n",
      "SR 童谣 0.0131048387097\n",
      "SR 罗摩 0.0120967741935\n",
      "SR 美狄亚〔Lily〕 0.00201612903226\n",
      "SR 芬恩·麦克库尔 0.0131048387097\n",
      "SR 贝奥武夫 0.00957661290323\n",
      "SR 赫拉克勒斯 0.0655241935484\n",
      "SR 阿塔兰忒 0.0115927419355\n",
      "SR 阿尔托莉雅·潘德拉贡〔Alter〕 0.00201612903226\n",
      "SR 阿斯托尔福 0.0126008064516\n",
      "SR 骑士迪昂 0.0619959677419\n",
      "SR 齐格飞 0.0594758064516\n",
      "SSR 俄里翁 0.0365591397849\n",
      "SSR 南丁格尔 0.0279569892473\n",
      "SSR 女王梅芙 0.00430107526882\n",
      "SSR 尼古拉·特斯拉 0.00645161290323\n",
      "SSR 库·丘林[Alter] 0.610752688172\n",
      "SSR 开膛手杰克 0.0172043010753\n",
      "SSR 弗拉德三世 0.0322580645161\n",
      "SSR 弗朗西斯·德雷克 0.0365591397849\n",
      "SSR 玉藻前 0.0193548387097\n",
      "SSR 莫德雷德 0.0301075268817\n",
      "SSR 诸葛孔明〔埃尔梅罗Ⅱ世〕 0.0258064516129\n",
      "SSR 贞德 0.0301075268817\n",
      "SSR 迦尔纳 0.047311827957\n",
      "SSR 阿周那 0.0301075268817\n",
      "SSR 阿尔托莉雅·潘德拉贡 0.0279569892473\n",
      "SSR 阿蒂拉 0.0172043010753\n"
     ]
    }
   ],
   "source": [
    "for k in sorted(d):\n",
    "    print ' '.join(k), d[k] / sum(df['star'] == k[0])"
   ]
  },
  {
   "cell_type": "code",
   "execution_count": null,
   "metadata": {
    "collapsed": true
   },
   "outputs": [],
   "source": []
  }
 ],
 "metadata": {
  "kernelspec": {
   "display_name": "Python 2",
   "language": "python",
   "name": "python2"
  },
  "language_info": {
   "codemirror_mode": {
    "name": "ipython",
    "version": 2
   },
   "file_extension": ".py",
   "mimetype": "text/x-python",
   "name": "python",
   "nbconvert_exporter": "python",
   "pygments_lexer": "ipython2",
   "version": "2.7.13"
  }
 },
 "nbformat": 4,
 "nbformat_minor": 2
}
