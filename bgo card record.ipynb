{
 "cells": [
  {
   "cell_type": "code",
   "execution_count": 1,
   "metadata": {
    "collapsed": true
   },
   "outputs": [],
   "source": [
    "PATH = unicode('C:/Users/zero/Google 云端硬盘/useful tools/BGO', 'utf-8')\n",
    "URL = 'http://activity.biligame.com/board/list?game_id=112&game_key=a5f36e53ab3b0c41'"
   ]
  },
  {
   "cell_type": "code",
   "execution_count": null,
   "metadata": {
    "collapsed": false
   },
   "outputs": [],
   "source": [
    "import pandas as pd\n",
    "import traceback as tb\n",
    "import datetime as dt\n",
    "import urllib as ul\n",
    "import time\n",
    "import json\n",
    "import os"
   ]
  },
  {
   "cell_type": "code",
   "execution_count": null,
   "metadata": {
    "collapsed": false
   },
   "outputs": [
    {
     "name": "stderr",
     "output_type": "stream",
     "text": [
      "Traceback (most recent call last):\n",
      "  File \"<ipython-input-3-9b087b3a64a8>\", line 3, in <module>\n",
      "    d = json.loads(ul.urlopen(URL).read())\n",
      "  File \"C:\\Users\\zero\\Anaconda2\\lib\\json\\__init__.py\", line 339, in loads\n",
      "    return _default_decoder.decode(s)\n",
      "  File \"C:\\Users\\zero\\Anaconda2\\lib\\json\\decoder.py\", line 364, in decode\n",
      "    obj, end = self.raw_decode(s, idx=_w(s, 0).end())\n",
      "  File \"C:\\Users\\zero\\Anaconda2\\lib\\json\\decoder.py\", line 382, in raw_decode\n",
      "    raise ValueError(\"No JSON object could be decoded\")\n",
      "ValueError: No JSON object could be decoded\n",
      "Traceback (most recent call last):\n",
      "  File \"<ipython-input-3-9b087b3a64a8>\", line 3, in <module>\n",
      "    d = json.loads(ul.urlopen(URL).read())\n",
      "  File \"C:\\Users\\zero\\Anaconda2\\lib\\json\\__init__.py\", line 339, in loads\n",
      "    return _default_decoder.decode(s)\n",
      "  File \"C:\\Users\\zero\\Anaconda2\\lib\\json\\decoder.py\", line 364, in decode\n",
      "    obj, end = self.raw_decode(s, idx=_w(s, 0).end())\n",
      "  File \"C:\\Users\\zero\\Anaconda2\\lib\\json\\decoder.py\", line 382, in raw_decode\n",
      "    raise ValueError(\"No JSON object could be decoded\")\n",
      "ValueError: No JSON object could be decoded\n"
     ]
    }
   ],
   "source": [
    "while True:\n",
    "    try:\n",
    "        d = json.loads(ul.urlopen(URL).read())\n",
    "        if d['code'] == 0:\n",
    "            df = pd.DataFrame(d['data'])\n",
    "            utc = dt.datetime.utcnow().strftime('%Y %m %d %H %M')\n",
    "            df.to_csv(os.path.join(PATH, 'UTC {}.csv'.format(utc)), index=False, encoding='utf-8')\n",
    "    except:\n",
    "        tb.print_exc()\n",
    "    time.sleep(60)"
   ]
  }
 ],
 "metadata": {
  "kernelspec": {
   "display_name": "Python 2",
   "language": "python",
   "name": "python2"
  },
  "language_info": {
   "codemirror_mode": {
    "name": "ipython",
    "version": 2
   },
   "file_extension": ".py",
   "mimetype": "text/x-python",
   "name": "python",
   "nbconvert_exporter": "python",
   "pygments_lexer": "ipython2",
   "version": "2.7.13"
  }
 },
 "nbformat": 4,
 "nbformat_minor": 2
}
