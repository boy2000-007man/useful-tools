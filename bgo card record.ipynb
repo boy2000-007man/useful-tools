{
 "cells": [
  {
   "cell_type": "code",
   "execution_count": 1,
   "metadata": {
    "collapsed": true
   },
   "outputs": [],
   "source": [
    "FILENAME = 'UTC %Y %m %d %H %M %S.csv'\n",
    "PATH = unicode('C:/Users/zero/Google 云端硬盘/useful tools/BGO', 'utf-8')\n",
    "URL = 'http://activity.biligame.com/board/list?game_id=112&game_key=a5f36e53ab3b0c41'"
   ]
  },
  {
   "cell_type": "code",
   "execution_count": null,
   "metadata": {
    "collapsed": false
   },
   "outputs": [],
   "source": [
    "import pandas as pd\n",
    "import traceback as tb\n",
    "import datetime as dt\n",
    "import urllib as ul\n",
    "import time\n",
    "import json\n",
    "import os"
   ]
  },
  {
   "cell_type": "code",
   "execution_count": null,
   "metadata": {
    "collapsed": false
   },
   "outputs": [],
   "source": [
    "prev_id = -1\n",
    "while True:\n",
    "    try:\n",
    "        d = json.loads(ul.urlopen(URL).read())\n",
    "        if d['code'] == 0:\n",
    "            df = pd.DataFrame(d['data'])\n",
    "            if prev_id < min(df['id']):\n",
    "                utc = dt.datetime.utcnow().strftime(FILENAME)\n",
    "                df.to_csv(os.path.join(PATH, utc), index=False, encoding='utf-8')\n",
    "                prev_id = min(df['id'])\n",
    "        time.sleep((64 - dt.datetime.utcnow().second) % 10 + 1)\n",
    "    except:\n",
    "        print dt.datetime.utcnow()\n",
    "        tb.print_exc()\n",
    "        time.sleep(1)"
   ]
  }
 ],
 "metadata": {
  "kernelspec": {
   "display_name": "Python 2",
   "language": "python",
   "name": "python2"
  },
  "language_info": {
   "codemirror_mode": {
    "name": "ipython",
    "version": 2
   },
   "file_extension": ".py",
   "mimetype": "text/x-python",
   "name": "python",
   "nbconvert_exporter": "python",
   "pygments_lexer": "ipython2",
   "version": "2.7.13"
  }
 },
 "nbformat": 4,
 "nbformat_minor": 2
}
